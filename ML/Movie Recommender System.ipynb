{
 "cells": [
  {
   "cell_type": "markdown",
   "id": "d25b967d",
   "metadata": {},
   "source": [
    "1.Content Based system: recommendation based on the content browsed already and it is based on the similarity of the content\n",
    "<br>\n",
    "2.Collaborative filtering recommendation: recommendation based on the interest of the user and this is more or less based on \n",
    "<br>\n",
    "similarity score of the user \n",
    "<br>\n",
    "3.Hybrid recommendation: mix of both the things \n"
   ]
  },
  {
   "cell_type": "markdown",
   "id": "6c105505",
   "metadata": {},
   "source": []
  },
  {
   "cell_type": "markdown",
   "id": "9620f73a",
   "metadata": {},
   "source": [
    "1.Data collection and preprocessing of the data "
   ]
  },
  {
   "cell_type": "code",
   "execution_count": 1,
   "id": "d16377ed",
   "metadata": {},
   "outputs": [],
   "source": [
    "import numpy as np\n",
    "import pandas as pd \n",
    "\n",
    "movies = pd.read_csv(\"tmdb_5000_movies.csv\")\n",
    "credits = pd.read_csv(\"tmdb_5000_credits.csv\")\n",
    "\n"
   ]
  },
  {
   "cell_type": "code",
   "execution_count": null,
   "id": "e83155e5",
   "metadata": {},
   "outputs": [],
   "source": []
  }
 ],
 "metadata": {
  "kernelspec": {
   "display_name": "Python 3 (ipykernel)",
   "language": "python",
   "name": "python3"
  },
  "language_info": {
   "codemirror_mode": {
    "name": "ipython",
    "version": 3
   },
   "file_extension": ".py",
   "mimetype": "text/x-python",
   "name": "python",
   "nbconvert_exporter": "python",
   "pygments_lexer": "ipython3",
   "version": "3.11.5"
  }
 },
 "nbformat": 4,
 "nbformat_minor": 5
}
